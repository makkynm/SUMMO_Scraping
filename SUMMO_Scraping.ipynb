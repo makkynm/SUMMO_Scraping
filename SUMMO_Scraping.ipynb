{
 "cells": [
  {
   "cell_type": "code",
   "execution_count": 95,
   "id": "499c04ad",
   "metadata": {},
   "outputs": [],
   "source": [
    "#必要なライブラリをインポート\n",
    "from bs4 import BeautifulSoup\n",
    "import requests\n",
    "import pandas as pd\n",
    "import time"
   ]
  },
  {
   "cell_type": "code",
   "execution_count": 2,
   "id": "0faa956f",
   "metadata": {},
   "outputs": [],
   "source": [
    "#URL（東京都千代田区の賃貸住宅情報 検索結果の1ページ目） #東京都／千代田区 12万円以下 15分以内 15年以内 2階以上／室内洗濯機置場／バス・トイレ別 管理費・共益費込み 鉄筋系／鉄骨系／ブロック・その他\n",
    "url = 'https://suumo.jp/jj/chintai/ichiran/FR301FC001/?ar=030&bs=040&ta=13&sc=13101&cb=0.0&ct=12.0&co=1&et=15&cn=15&mb=0&mt=9999999&kz=1&kz=2&kz=4&tc=0400101&tc=0400501&tc=0400301&shkr1=03&shkr2=03&shkr3=03&shkr4=03&fw2='\n",
    "\n",
    "#データ取得\n",
    "result = requests.get(url)\n",
    "c = result.content\n",
    "\n",
    "#HTMLを元に、オブジェクトを作る\n",
    "soup = BeautifulSoup(c, \"html.parser\")"
   ]
  },
  {
   "cell_type": "code",
   "execution_count": 3,
   "id": "47926902",
   "metadata": {},
   "outputs": [],
   "source": [
    "#ページ数を取得\n",
    "body = soup.find(\"body\")\n",
    "pages = body.find(\"div\",{'class':'pagination pagination_set-nav'}) #Page数の部分のhtmlを抜き出す\n",
    "links = pages.select(\"a[href]\") #link付きaタグを抜き出す\n",
    "#link_text = [link.get_text() for link in links] #Loopでテキスト部を抜き出す\n",
    "#page_num = [int(v) for v in link_text if v.isdigit()] #数値に変換できるものだけ取り出す\n",
    "#max_page = max(page_num) #最大値を取得"
   ]
  },
  {
   "cell_type": "code",
   "execution_count": 93,
   "id": "9fced23f",
   "metadata": {},
   "outputs": [],
   "source": [
    "#ページ選択で数値になっているリンクを引っ張ってくる（\"次へ\"を除く）\n",
    "PageURLs = [link.get(\"href\") for link in links if link.get_text().isdigit()] \n",
    "#1ページ目を先頭に格納\n",
    "PageURLs.insert(0, url)"
   ]
  },
  {
   "cell_type": "code",
   "execution_count": 8,
   "id": "cec86d7a",
   "metadata": {},
   "outputs": [],
   "source": [
    "#物件リストの部分を切り出し\n",
    "summary = soup.find(\"div\",{'id':'js-bukkenList'})\n",
    "#マンション名、住所、立地（最寄駅/徒歩~分）、築年数、建物高さが入っているcassetteitemを全て抜き出し - デフォルト設定で最大30件の物件表示\n",
    "cassetteitems = summary.find_all(\"div\",{'class':'cassetteitem'})"
   ]
  },
  {
   "cell_type": "code",
   "execution_count": 75,
   "id": "10519c2c",
   "metadata": {},
   "outputs": [],
   "source": [
    "#Loopを見据える マンションの数\n",
    "i = 1"
   ]
  },
  {
   "cell_type": "code",
   "execution_count": 76,
   "id": "b36eea18",
   "metadata": {},
   "outputs": [],
   "source": [
    "#マンション名取得\n",
    "EstateName = cassetteitems[i].find(\"div\",{'class':'cassetteitem_content-title'}).get_text()"
   ]
  },
  {
   "cell_type": "code",
   "execution_count": 77,
   "id": "8fd40b21",
   "metadata": {},
   "outputs": [],
   "source": [
    "#住所取得\n",
    "EstateAddress = cassetteitems[i].find(\"li\",{'class':'cassetteitem_detail-col1'}).get_text()"
   ]
  },
  {
   "cell_type": "code",
   "execution_count": 91,
   "id": "ef018682",
   "metadata": {},
   "outputs": [],
   "source": [
    "#最寄り駅取得\n",
    "EstateLocationElem = cassetteitems[i].find(\"li\",{'class':'cassetteitem_detail-col2'}).find_all(\"div\",{'class':'cassetteitem_detail-text'})\n",
    "EstateLocations = [EstateLocation.get_text() for EstateLocation in EstateLocationElem] #リストで取得\n",
    "EstateLocation = ' --- '.join(EstateLocations)"
   ]
  },
  {
   "cell_type": "code",
   "execution_count": 79,
   "id": "4d970186",
   "metadata": {},
   "outputs": [],
   "source": [
    "#築年数と建物高さを取得\n",
    "EstateCol3Elem = cassetteitems[i].find(\"li\",{'class':'cassetteitem_detail-col3'}).find_all(\"div\")\n",
    "EstageAge = EstateCol3Elem[0].get_text()\n",
    "EstageHight = EstateCol3Elem[1].get_text()"
   ]
  },
  {
   "cell_type": "code",
   "execution_count": 101,
   "id": "cdd4766b",
   "metadata": {},
   "outputs": [
    {
     "data": {
      "text/plain": [
       "15"
      ]
     },
     "execution_count": 101,
     "metadata": {},
     "output_type": "execute_result"
    }
   ],
   "source": [
    "#Room Header Name\n",
    "RoomtableHeadElem = RoomtableElem.find(\"thead\").find_all(\"th\")\n",
    "HeaderNames = [temp.get_text() for temp in RoomtableHeadElem]\n",
    "HeaderNames.append(\"NewArrival\")\n",
    "HeaderNames.extend([\"マンション名\", \"住所\", \"最寄り駅\", \"築年数\", \"建物高さ\"])\n",
    "len(HeaderNames)"
   ]
  },
  {
   "cell_type": "code",
   "execution_count": 102,
   "id": "2312356b",
   "metadata": {},
   "outputs": [
    {
     "data": {
      "text/plain": [
       "15"
      ]
     },
     "execution_count": 102,
     "metadata": {},
     "output_type": "execute_result"
    }
   ],
   "source": [
    "#Header Info をListに\n",
    "HeaderInfo = [EstateName, EstateAddress, EstateLocation, EstageAge, EstageHight]\n",
    "#階、賃料、管理費、敷/礼/保証/敷引,償却、間取り、専有面積が入っているtableを全て抜き出し\n",
    "RoomtableElem =  cassetteitems[i].find(\"table\",{'class':'cassetteitem_other'})\n",
    "RoomDetail = []\n",
    "#Contents \n",
    "for rooms in RoomtableElem.find_all(\"tbody\"):\n",
    "    Roomtable = [temp.get_text() for temp in rooms.findAll('td')]\n",
    "    if \"cassetteitem_other-checkbox--newarrival\" in rooms.td['class']:\n",
    "        Roomtable.append(\"New\")\n",
    "    else:\n",
    "        Roomtable.append(\"Exsiting\")\n",
    "    #Add Header Info\n",
    "    Roomtable.extend(HeaderInfo)\n",
    "    RoomDetail.append(Roomtable)\n",
    "len(RoomDetail[0])"
   ]
  },
  {
   "cell_type": "code",
   "execution_count": null,
   "id": "9397255a",
   "metadata": {},
   "outputs": [],
   "source": []
  },
  {
   "cell_type": "code",
   "execution_count": null,
   "id": "931b22f7",
   "metadata": {},
   "outputs": [],
   "source": [
    "\n"
   ]
  },
  {
   "cell_type": "code",
   "execution_count": null,
   "id": "9df914b4",
   "metadata": {},
   "outputs": [],
   "source": []
  },
  {
   "cell_type": "code",
   "execution_count": null,
   "id": "f6af1f7f",
   "metadata": {},
   "outputs": [],
   "source": []
  },
  {
   "cell_type": "code",
   "execution_count": null,
   "id": "ed796d01",
   "metadata": {},
   "outputs": [],
   "source": []
  },
  {
   "cell_type": "code",
   "execution_count": null,
   "id": "37016922",
   "metadata": {},
   "outputs": [],
   "source": []
  },
  {
   "cell_type": "markdown",
   "id": "57f787e7",
   "metadata": {},
   "source": [
    "http://zdassen.hatenablog.com/entry/2018/04/07/234016"
   ]
  },
  {
   "cell_type": "code",
   "execution_count": null,
   "id": "851cdfa3",
   "metadata": {},
   "outputs": [],
   "source": []
  },
  {
   "cell_type": "code",
   "execution_count": null,
   "id": "fab046b2",
   "metadata": {},
   "outputs": [],
   "source": [
    "#各建物から売りに出ている部屋数を取得\n",
    "tbodies = cassetteitems[0].find_all('tbody')\n",
    "print(\"部屋数: \" + str(len(tbodies)))\n",
    "\n",
    "#部屋の部分を切り出し\n",
    "summary = soup.find(\"div\",{'id':'js-bukkenList'})"
   ]
  },
  {
   "cell_type": "code",
   "execution_count": null,
   "id": "9e913e25",
   "metadata": {},
   "outputs": [],
   "source": [
    "name = [] #マンション名\n",
    "address = [] #住所\n",
    "locations0 = [] #立地1つ目（最寄駅/徒歩~分）\n",
    "locations1 = [] #立地2つ目（最寄駅/徒歩~分）\n",
    "locations2 = [] #立地3つ目（最寄駅/徒歩~分）\n",
    "age = [] #築年数\n",
    "height = [] #建物高さ\n",
    "floor = [] #階\n",
    "rent = [] #賃料\n",
    "admin = [] #管理費\n",
    "others = [] #敷/礼/保証/敷引,償却\n",
    "floor_plan = [] #間取り\n",
    "area = [] #専有面積\n",
    "    \n",
    "    #各cassetteitemsに対し、以下の動作をループ\n",
    "    for i in range(len(cassetteitems)):\n",
    "        #各建物から売りに出ている部屋数を取得\n",
    "        tbodies = cassetteitems[i].find_all('tbody')\n",
    "        \n",
    "        #マンション名取得\n",
    "        subtitle = cassetteitems[i].find_all(\"div\",{\n",
    "            'class':'cassetteitem_content-title'})\n",
    "        subtitle = str(subtitle)\n",
    "        subtitle_rep = subtitle.replace(\n",
    "            '[<div class=\"cassetteitem_content-title\">', '')\n",
    "        subtitle_rep2 = subtitle_rep.replace(\n",
    "            '</div>]', '')\n",
    "\n",
    "        #住所取得\n",
    "        subaddress = cassetteitems[i].find_all(\"li\",{\n",
    "            'class':'cassetteitem_detail-col1'})\n",
    "        subaddress = str(subaddress)\n",
    "        subaddress_rep = subaddress.replace(\n",
    "            '[<li class=\"cassetteitem_detail-col1\">', '')\n",
    "        subaddress_rep2 = subaddress_rep.replace(\n",
    "            '</li>]', '')\n",
    "        \n",
    "        #部屋数だけ、マンション名と住所を繰り返しリストに格納（部屋情報と数を合致させるため）\n",
    "        for y in range(len(tbodies)):\n",
    "            name.append(subtitle_rep2)\n",
    "            address.append(subaddress_rep2)\n",
    "\n",
    "        #立地を取得\n",
    "        sublocations = cassetteitems[i].find_all(\"li\",{\n",
    "            'class':'cassetteitem_detail-col2'})\n",
    "        \n",
    "        #立地は、1つ目から3つ目までを取得（4つ目以降は無視）\n",
    "        for x in sublocations:\n",
    "            cols = x.find_all('div')\n",
    "            for i in range(len(cols)):\n",
    "                text = cols[i].find(text=True)\n",
    "                for y in range(len(tbodies)):\n",
    "                    if i == 0:\n",
    "                        locations0.append(text)\n",
    "                    elif i == 1:\n",
    "                        locations1.append(text)\n",
    "                    elif i == 2:\n",
    "                        locations2.append(text)\n",
    "                        \n",
    "        #築年数と建物高さを取得\n",
    "        tbodies = cassetteitems[i].find_all('tbody')\n",
    "        col3 = cassetteitems[i].find_all(\"li\",{\n",
    "            'class':'cassetteitem_detail-col3'})\n",
    "        for x in col3:\n",
    "            cols = x.find_all('div')\n",
    "            for i in range(len(cols)):\n",
    "                text = cols[i].find(text=True)\n",
    "                for y in range(len(tbodies)):\n",
    "                    if i == 0:\n",
    "                        age.append(text)\n",
    "                    else:\n",
    "                        height.append(text)\n",
    "\n",
    "    #階、賃料、管理費、敷/礼/保証/敷引,償却、間取り、専有面積が入っているtableを全て抜き出し\n",
    "    tables = summary.find_all('table')\n",
    "\n",
    "    #各建物（table）に対して、売りに出ている部屋（row）を取得\n",
    "    rows = []\n",
    "    for i in range(len(tables)):\n",
    "        rows.append(tables[i].find_all('tr'))\n",
    "\n",
    "    #各部屋に対して、tableに入っているtext情報を取得し、dataリストに格納\n",
    "    data = []\n",
    "    for row in rows:\n",
    "        for tr in row:\n",
    "            cols = tr.find_all('td')\n",
    "            for td in cols:\n",
    "                text = td.find(text=True)\n",
    "                data.append(text)\n",
    "\n",
    "    #dataリストから、階、賃料、管理費、敷/礼/保証/敷引,償却、間取り、専有面積を順番に取り出す\n",
    "    index = 0\n",
    "    for item in data:\n",
    "        if '階' in item:\n",
    "            floor.append(data[index])\n",
    "            rent.append(data[index+1])\n",
    "            admin.append(data[index+2])\n",
    "            others.append(data[index+3])\n",
    "            floor_plan.append(data[index+4])\n",
    "            area.append(data[index+5])\n",
    "        index +=1"
   ]
  },
  {
   "cell_type": "markdown",
   "id": "d0fcfa88",
   "metadata": {},
   "source": []
  },
  {
   "cell_type": "code",
   "execution_count": null,
   "id": "80c071b0",
   "metadata": {},
   "outputs": [],
   "source": [
    "result = pages.select(\"a[href]\") \n",
    "\n",
    "url = \"https://www.jitec.ipa.go.jp/1_04hanni_sukiru/mondai_kaitou_2018h30.html\" \n",
    "res = req.urlopen(url) \n",
    "soup = BeautifulSoup(res, \"html.parser\") \n",
    "result = soup.select(\"a[href]\") \n",
    "print(result)\n",
    "\n",
    "link_list =[] \n",
    "for link in result: \n",
    "    href = link.get(\"href\") \n",
    "    link_list.append(href) \n",
    "    print(link_list)\n",
    "\n",
    "pages2 = pages.find_all(\"a\")"
   ]
  },
  {
   "cell_type": "code",
   "execution_count": null,
   "id": "e5a3397e",
   "metadata": {},
   "outputs": [],
   "source": []
  },
  {
   "cell_type": "code",
   "execution_count": null,
   "id": "ee9b6199",
   "metadata": {},
   "outputs": [],
   "source": [
    "#物件リストの部分を切り出し\n",
    "summary = soup.find(\"div\",{'id':'js-bukkenList'})"
   ]
  },
  {
   "cell_type": "code",
   "execution_count": null,
   "id": "d1227844",
   "metadata": {},
   "outputs": [],
   "source": [
    "summary"
   ]
  },
  {
   "cell_type": "code",
   "execution_count": null,
   "id": "b05a5505",
   "metadata": {},
   "outputs": [],
   "source": []
  },
  {
   "cell_type": "code",
   "execution_count": null,
   "id": "e044fa0a",
   "metadata": {},
   "outputs": [],
   "source": [
    "pages_split = pages_text.split('</a></li>\\n</ol>')\n",
    "pages_split0 = pages_split[0]\n",
    "pages_split1 = pages_split0[-3:]\n",
    "pages_split2 = pages_split1.replace('>','')\n",
    "pages_split2"
   ]
  },
  {
   "cell_type": "code",
   "execution_count": null,
   "id": "e6ca7177",
   "metadata": {},
   "outputs": [],
   "source": [
    "\n",
    "\n",
    "\n",
    "\n",
    "\n",
    "#URLを入れるリスト\n",
    "urls = []\n",
    "\n",
    "#1ページ目を格納\n",
    "urls.append(url)\n",
    "\n",
    "#2ページ目から最後のページまでを格納\n",
    "for i in range(pages_split3-1):\n",
    "    pg = str(i+2)\n",
    "    url_page = url + '&pn=' + pg\n",
    "    urls.append(url_page)\n",
    "    \n",
    "    \n",
    "name = [] #マンション名\n",
    "address = [] #住所\n",
    "locations0 = [] #立地1つ目（最寄駅/徒歩~分）\n",
    "locations1 = [] #立地2つ目（最寄駅/徒歩~分）\n",
    "locations2 = [] #立地3つ目（最寄駅/徒歩~分）\n",
    "age = [] #築年数\n",
    "height = [] #建物高さ\n",
    "floor = [] #階\n",
    "rent = [] #賃料\n",
    "admin = [] #管理費\n",
    "others = [] #敷/礼/保証/敷引,償却\n",
    "floor_plan = [] #間取り\n",
    "area = [] #専有面積"
   ]
  },
  {
   "cell_type": "code",
   "execution_count": null,
   "id": "9feb99f7",
   "metadata": {},
   "outputs": [],
   "source": [
    "#各ページで以下の動作をループ\n",
    "for url in urls:\n",
    "    #物件リストを切り出し\n",
    "    result = requests.get(url)\n",
    "    c = result.content\n",
    "    soup = BeautifulSoup(c)\n",
    "    summary = soup.find(\"div\",{'id':'js-bukkenList'})\n",
    "    \n",
    "    #マンション名、住所、立地（最寄駅/徒歩~分）、築年数、建物高さが入っているcassetteitemを全て抜き出し\n",
    "    cassetteitems = summary.find_all(\"div\",{'class':'cassetteitem'})\n",
    "\n",
    "    #各cassetteitemsに対し、以下の動作をループ\n",
    "    for i in range(len(cassetteitems)):\n",
    "        #各建物から売りに出ている部屋数を取得\n",
    "        tbodies = cassetteitems[i].find_all('tbody')\n",
    "        \n",
    "        #マンション名取得\n",
    "        subtitle = cassetteitems[i].find_all(\"div\",{\n",
    "            'class':'cassetteitem_content-title'})\n",
    "        subtitle = str(subtitle)\n",
    "        subtitle_rep = subtitle.replace(\n",
    "            '[<div class=\"cassetteitem_content-title\">', '')\n",
    "        subtitle_rep2 = subtitle_rep.replace(\n",
    "            '</div>]', '')\n",
    "\n",
    "        #住所取得\n",
    "        subaddress = cassetteitems[i].find_all(\"li\",{\n",
    "            'class':'cassetteitem_detail-col1'})\n",
    "        subaddress = str(subaddress)\n",
    "        subaddress_rep = subaddress.replace(\n",
    "            '[<li class=\"cassetteitem_detail-col1\">', '')\n",
    "        subaddress_rep2 = subaddress_rep.replace(\n",
    "            '</li>]', '')\n",
    "        \n",
    "        #部屋数だけ、マンション名と住所を繰り返しリストに格納（部屋情報と数を合致させるため）\n",
    "        for y in range(len(tbodies)):\n",
    "            name.append(subtitle_rep2)\n",
    "            address.append(subaddress_rep2)\n",
    "\n",
    "        #立地を取得\n",
    "        sublocations = cassetteitems[i].find_all(\"li\",{\n",
    "            'class':'cassetteitem_detail-col2'})\n",
    "        \n",
    "        #立地は、1つ目から3つ目までを取得（4つ目以降は無視）\n",
    "        for x in sublocations:\n",
    "            cols = x.find_all('div')\n",
    "            for i in range(len(cols)):\n",
    "                text = cols[i].find(text=True)\n",
    "                for y in range(len(tbodies)):\n",
    "                    if i == 0:\n",
    "                        locations0.append(text)\n",
    "                    elif i == 1:\n",
    "                        locations1.append(text)\n",
    "                    elif i == 2:\n",
    "                        locations2.append(text)\n",
    "                        \n",
    "        #築年数と建物高さを取得\n",
    "        tbodies = cassetteitems[i].find_all('tbody')\n",
    "        col3 = cassetteitems[i].find_all(\"li\",{\n",
    "            'class':'cassetteitem_detail-col3'})\n",
    "        for x in col3:\n",
    "            cols = x.find_all('div')\n",
    "            for i in range(len(cols)):\n",
    "                text = cols[i].find(text=True)\n",
    "                for y in range(len(tbodies)):\n",
    "                    if i == 0:\n",
    "                        age.append(text)\n",
    "                    else:\n",
    "                        height.append(text)\n",
    "\n",
    "    #階、賃料、管理費、敷/礼/保証/敷引,償却、間取り、専有面積が入っているtableを全て抜き出し\n",
    "    tables = summary.find_all('table')\n",
    "\n",
    "    #各建物（table）に対して、売りに出ている部屋（row）を取得\n",
    "    rows = []\n",
    "    for i in range(len(tables)):\n",
    "        rows.append(tables[i].find_all('tr'))\n",
    "\n",
    "    #各部屋に対して、tableに入っているtext情報を取得し、dataリストに格納\n",
    "    data = []\n",
    "    for row in rows:\n",
    "        for tr in row:\n",
    "            cols = tr.find_all('td')\n",
    "            for td in cols:\n",
    "                text = td.find(text=True)\n",
    "                data.append(text)\n",
    "\n",
    "    #dataリストから、階、賃料、管理費、敷/礼/保証/敷引,償却、間取り、専有面積を順番に取り出す\n",
    "    index = 0\n",
    "    for item in data:\n",
    "        if '階' in item:\n",
    "            floor.append(data[index])\n",
    "            rent.append(data[index+1])\n",
    "            admin.append(data[index+2])\n",
    "            others.append(data[index+3])\n",
    "            floor_plan.append(data[index+4])\n",
    "            area.append(data[index+5])\n",
    "        index +=1\n",
    "    \n",
    "    #プログラムを10秒間停止する（スクレイピングマナー）\n",
    "    time.sleep(10)"
   ]
  }
 ],
 "metadata": {
  "kernelspec": {
   "display_name": "Python 3",
   "language": "python",
   "name": "python3"
  },
  "language_info": {
   "codemirror_mode": {
    "name": "ipython",
    "version": 3
   },
   "file_extension": ".py",
   "mimetype": "text/x-python",
   "name": "python",
   "nbconvert_exporter": "python",
   "pygments_lexer": "ipython3",
   "version": "3.8.10"
  }
 },
 "nbformat": 4,
 "nbformat_minor": 5
}
