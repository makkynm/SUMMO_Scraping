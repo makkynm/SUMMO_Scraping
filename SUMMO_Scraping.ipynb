{
 "cells": [
  {
   "cell_type": "markdown",
   "id": "9d571f39",
   "metadata": {},
   "source": [
    "#  SUMMOスクレイピングメイン"
   ]
  },
  {
   "cell_type": "code",
   "execution_count": null,
   "id": "499c04ad",
   "metadata": {},
   "outputs": [],
   "source": [
    "#必要なライブラリをインポート\n",
    "from bs4 import BeautifulSoup\n",
    "import requests\n",
    "import pandas as pd\n",
    "import time\n",
    "from urllib.parse import urljoin"
   ]
  },
  {
   "cell_type": "code",
   "execution_count": null,
   "id": "8a24e6dd",
   "metadata": {},
   "outputs": [],
   "source": [
    "def Recursive_PageNum(All_PageFullURLs, url):\n",
    "    #データ取得\n",
    "    result = requests.get(url)\n",
    "    c = result.content\n",
    "    #HTMLを元に、オブジェクトを作る\n",
    "    soup = BeautifulSoup(c, \"html.parser\")\n",
    "    #ページ数を取得\n",
    "    body = soup.find(\"body\")\n",
    "    pages = body.find(\"div\",{'class':'pagination pagination_set-nav'}) #Page数の部分のhtmlを抜き出す\n",
    "    links = pages.select(\"a[href]\") #link付きaタグを抜き出す\n",
    "    #ページ選択で数値になっているリンクを引っ張ってくる（\"次へ\"を除く）\n",
    "    PageURLs = [link.get(\"href\") for link in links if link.get_text().isdigit()] \n",
    "    PageFullURLs = [urljoin(\"https://suumo.jp/\", relative) for relative in PageURLs] #相対パス -> 絶対パス\n",
    "    #1ページ目を先頭に格納\n",
    "    PageFullURLs.insert(0, url)\n",
    "    PageFullURLs = list(dict.fromkeys(PageFullURLs)) #重複削除\n",
    "    nPages = [int(link.get_text()) for link in links if link.get_text().isdigit()]\n",
    "    All_PageFullURLs.extend(PageFullURLs)\n",
    "    All_PageFullURLs = list(dict.fromkeys(All_PageFullURLs)) #重複削除\n",
    "    #再帰関数Exit条件 1 pageしかない場合 / 2 pageしかない場合 / MaxとMax-1番目のページ数の差が1の場合\n",
    "    if len(nPages) == 0 or len(nPages) == 1 or (sorted(nPages)[-1] - sorted(nPages)[-2]) ==1:\n",
    "        print(\"Exit recursive loop! # of URLs are    \" + str(len(All_PageFullURLs)))\n",
    "        return All_PageFullURLs\n",
    "    #再帰関数 ページ数が２番目に大きいURLを次の読み込みURLに指定\n",
    "    return Recursive_PageNum(All_PageFullURLs, PageFullURLs[-2])"
   ]
  },
  {
   "cell_type": "code",
   "execution_count": null,
   "id": "b889edd7",
   "metadata": {},
   "outputs": [],
   "source": [
    "def ParseRoomDetail(EstateElem, url):\n",
    "    #マンション名取得\n",
    "    EstateName = EstateElem.find(\"div\",{'class':'cassetteitem_content-title'}).get_text()\n",
    "    #住所取得\n",
    "    EstateAddress = EstateElem.find(\"li\",{'class':'cassetteitem_detail-col1'}).get_text()\n",
    "    #最寄り駅取得\n",
    "    EstateLocationElem = EstateElem.find(\"li\",{'class':'cassetteitem_detail-col2'}).find_all(\"div\",{'class':'cassetteitem_detail-text'})\n",
    "    EstateLocations = [EstateLocation.get_text() for EstateLocation in EstateLocationElem] #リストで取得\n",
    "    EstateLocation = ' --- '.join(EstateLocations)\n",
    "    #築年数と建物高さを取得\n",
    "    EstateCol3Elem = EstateElem.find(\"li\",{'class':'cassetteitem_detail-col3'}).find_all(\"div\")\n",
    "    EstageAge = EstateCol3Elem[0].get_text()\n",
    "    EstageHight = EstateCol3Elem[1].get_text()\n",
    "    #Header Info をListに\n",
    "    HeaderInfo = [EstateName, EstateAddress, EstateLocation, EstageAge, EstageHight, url]\n",
    "    #階、賃料、管理費、敷/礼/保証/敷引,償却、間取り、専有面積が入っているtableを全て抜き出し\n",
    "    RoomtableElem =  EstateElem.find(\"table\",{'class':'cassetteitem_other'})\n",
    "    RoomDetail = []\n",
    "    #Contents \n",
    "    for rooms in RoomtableElem.find_all(\"tbody\"):\n",
    "        Roomtable = [temp.get_text() for temp in rooms.findAll('td')]\n",
    "        if \"cassetteitem_other-checkbox--newarrival\" in rooms.td['class']:\n",
    "            Roomtable.append(\"New\")\n",
    "        else:\n",
    "            Roomtable.append(\"Exsiting\")\n",
    "        #Add Header Info\n",
    "        Roomtable.extend(HeaderInfo)\n",
    "        RoomDetail.append(Roomtable)\n",
    "    return RoomDetail"
   ]
  },
  {
   "cell_type": "code",
   "execution_count": null,
   "id": "3612dfb9",
   "metadata": {},
   "outputs": [],
   "source": [
    "def Parsedistrict(PageFullURLs, RoomDetails):\n",
    "    for icount, url in enumerate(PageFullURLs):\n",
    "        print(\"    Room Detail Status: \" + str(icount + 1) + \"/\" + str(len(PageFullURLs)))\n",
    "        #データ取得\n",
    "        result = requests.get(url)\n",
    "        c = result.content\n",
    "        #HTMLを元に、オブジェクトを作る\n",
    "        soup = BeautifulSoup(c, \"html.parser\")\n",
    "        #物件リストの部分を切り出し\n",
    "        summary = soup.find(\"div\",{'id':'js-bukkenList'})\n",
    "        #マンション名、住所、立地（最寄駅/徒歩~分）、築年数、建物高さが入っているcassetteitemを全て抜き出し - デフォルト設定で最大30件の物件表示\n",
    "        cassetteitems = summary.find_all(\"div\",{'class':'cassetteitem'})\n",
    "        #マンションの数でループ\n",
    "        for EstateElem in cassetteitems:\n",
    "            RoomDetails.extend(ParseRoomDetail(EstateElem, url))\n",
    "        time.sleep(10)\n",
    "    print(\"total # of Rooms: \" + str(len(RoomDetails)))\n",
    "    return RoomDetails"
   ]
  },
  {
   "cell_type": "code",
   "execution_count": null,
   "id": "0faa956f",
   "metadata": {},
   "outputs": [],
   "source": [
    "#検索１ページ目\n",
    "#ta=が都道府県コード\n",
    "#sc=を無くせば都道府県単位の情報になる\n",
    "#東京23区はsc=13101 ~ 13123\n",
    "#条件：　12万円以下 15分以内 15年以内 2階以上／室内洗濯機置場／バス・トイレ別 管理費・共益費込み 鉄筋系／鉄骨系／ブロック・その他\n",
    "BaseURLs = [\n",
    "    #東京都\n",
    "    \"https://suumo.jp/jj/chintai/ichiran/FR301FC001/?url=%2Fchintai%2Fichiran%2FFR301FC001%2F&ar=030&bs=040&pc=30&smk=&po1=25&po2=99&co=1&kz=1&kz=2&kz=4&tc=0400101&tc=0400501&tc=0400301&shkr1=03&shkr2=03&shkr3=03&shkr4=03&cb=0.0&ct=12.0&et=15&mb=0&mt=9999999&cn=15&ta=13\",\n",
    "    #神奈川県\n",
    "    \"https://suumo.jp/jj/chintai/ichiran/FR301FC001/?url=%2Fchintai%2Fichiran%2FFR301FC001%2F&ar=030&bs=040&pc=30&smk=&po1=25&po2=99&co=1&kz=1&kz=2&kz=4&tc=0400101&tc=0400501&tc=0400301&shkr1=03&shkr2=03&shkr3=03&shkr4=03&cb=0.0&ct=12.0&et=15&mb=0&mt=9999999&cn=15&ta=14\",\n",
    "    #千葉県\n",
    "    \"https://suumo.jp/jj/chintai/ichiran/FR301FC001/?url=%2Fchintai%2Fichiran%2FFR301FC001%2F&ar=030&bs=040&pc=30&smk=&po1=25&po2=99&co=1&kz=1&kz=2&kz=4&tc=0400101&tc=0400501&tc=0400301&shkr1=03&shkr2=03&shkr3=03&shkr4=03&cb=0.0&ct=12.0&et=15&mb=0&mt=9999999&cn=15&ta=12\",\n",
    "    #埼玉県\n",
    "    \"https://suumo.jp/jj/chintai/ichiran/FR301FC001/?url=%2Fchintai%2Fichiran%2FFR301FC001%2F&ar=030&bs=040&pc=30&smk=&po1=25&po2=99&co=1&kz=1&kz=2&kz=4&tc=0400101&tc=0400501&tc=0400301&shkr1=03&shkr2=03&shkr3=03&shkr4=03&cb=0.0&ct=12.0&et=15&mb=0&mt=9999999&cn=15&ta=11\"\n",
    "]\n",
    "\n",
    "    \n",
    "    \n",
    "# # test用 1 page\n",
    "# BaseURLs = [\"https://suumo.jp/jj/chintai/ichiran/FR301FC001/?ar=030&bs=040&pc=30&smk=&po1=12&po2=99&shkr1=03&shkr2=03&shkr3=03&shkr4=03&sc=13101&ta=13&cb=0.0&ct=5.0&et=9999999&mb=0&mt=9999999&cn=9999999&fw2=\"]\n",
    "# # test用 2 pages\n",
    "# BaseURLs = [\"https://suumo.jp/jj/chintai/ichiran/FR301FC001/?ar=030&bs=040&pc=30&smk=&po1=12&po2=99&shkr1=03&shkr2=03&shkr3=03&shkr4=03&sc=13101&ta=13&cb=0.0&ct=7.0&et=9999999&mb=0&mt=9999999&cn=9999999&fw2=\"]\n",
    "# #test用 3 pages\n",
    "# BaseURLs = [\"https://suumo.jp/jj/chintai/ichiran/FR301FC001/?ar=030&bs=040&pc=30&smk=&po1=12&po2=99&shkr1=03&shkr2=03&shkr3=03&shkr4=03&sc=13101&ta=13&cb=0.0&ct=8.5&co=1&et=9999999&mb=0&mt=9999999&cn=9999999&fw2=\"]\n",
    "# #test用 8 pages\n",
    "# BaseURLs = [\"https://suumo.jp/jj/chintai/ichiran/FR301FC001/?ar=030&bs=040&pc=30&smk=&po1=12&po2=99&shkr1=03&shkr2=03&shkr3=03&shkr4=03&sc=13101&ta=13&cb=0.0&ct=9.0&et=9999999&mb=0&mt=9999999&cn=9999999&fw2=\"]\n",
    "# #test用 35 pages\n",
    "# BaseURLs = [\"https://suumo.jp/jj/chintai/ichiran/FR301FC001/?ar=030&bs=040&ta=13&sc=13101&cb=0.0&ct=9999999&et=9999999&cn=9999999&mb=0&mt=9999999&shkr1=03&shkr2=03&shkr3=03&shkr4=03&fw2=&srch_navi=1\"]"
   ]
  },
  {
   "cell_type": "code",
   "execution_count": null,
   "id": "5150b243",
   "metadata": {},
   "outputs": [],
   "source": [
    "#Header Name\n",
    "soup = BeautifulSoup(requests.get(BaseURLs[0]).content, \"html.parser\")\n",
    "body = soup.find(\"body\")\n",
    "RoomtableHeadElem =  body.find(\"div\",{'class':'cassetteitem'}).find(\"thead\").find_all(\"th\")\n",
    "HeaderNames = [temp.get_text() for temp in RoomtableHeadElem]\n",
    "HeaderNames.append(\"NewArrival\")\n",
    "HeaderNames.extend([\"マンション名\", \"住所\", \"最寄り駅\", \"築年数\", \"建物高さ\",\"URL\"])\n",
    "HeaderNames = [temp.replace(\"\\xa0\", str(i)) for i, temp in enumerate(HeaderNames)] #空白の場合行番号で置き換え"
   ]
  },
  {
   "cell_type": "code",
   "execution_count": null,
   "id": "d718a3c3",
   "metadata": {},
   "outputs": [],
   "source": [
    "#Scraping Main\n",
    "RoomDetails = []\n",
    "for iMcount, url in enumerate(BaseURLs):\n",
    "    print(\"District Status: \" + str(iMcount + 1) + \"/\" + str(len(BaseURLs)))\n",
    "    All_PageFullURLs = []\n",
    "    All_PageFullURLs = Recursive_PageNum(All_PageFullURLs, url) #全てのページのURLを取得\n",
    "    RoomDetails = Parsedistrict(All_PageFullURLs, RoomDetails) #ページごとの物件情報取得 / Pageのループはこの中\n",
    "    df = pd.DataFrame(RoomDetails, columns = HeaderNames)\n",
    "    filename = \"SUMMO_Room_\" + str(iMcount) + \".csv\"\n",
    "    df.to_csv(filename)"
   ]
  },
  {
   "cell_type": "code",
   "execution_count": null,
   "id": "47926902",
   "metadata": {},
   "outputs": [],
   "source": []
  },
  {
   "cell_type": "code",
   "execution_count": null,
   "id": "9fced23f",
   "metadata": {
    "scrolled": true
   },
   "outputs": [],
   "source": []
  },
  {
   "cell_type": "markdown",
   "id": "328bcece",
   "metadata": {},
   "source": [
    "# 前処理"
   ]
  },
  {
   "cell_type": "code",
   "execution_count": null,
   "id": "0f512048",
   "metadata": {},
   "outputs": [],
   "source": [
    "# filename = \"SUMMO_Room.csv\"\n",
    "# df = pd.read_csv(filename, index_col=0)\n",
    "# #いらないコラムを削除\n",
    "# df = df.drop(['0', '1','6','8'], axis=1)\n",
    "# df.head()"
   ]
  },
  {
   "cell_type": "code",
   "execution_count": null,
   "id": "719edfcc",
   "metadata": {},
   "outputs": [],
   "source": [
    "# #階数を数字に変換 2-3などとなっている場合は、前半を取得。\n",
    "# df[\"階\"].extract(\"+@階\", regex=True)\n"
   ]
  },
  {
   "cell_type": "code",
   "execution_count": null,
   "id": "7f611ddc",
   "metadata": {},
   "outputs": [],
   "source": [
    "# df.head()"
   ]
  },
  {
   "cell_type": "raw",
   "id": "e583671c",
   "metadata": {},
   "source": [
    "BaseURLs = [\n",
    "    \"https://suumo.jp/jj/chintai/ichiran/FR301FC001/?ar=030&bs=040&ta=13&sc=13101&cb=0.0&ct=12.0&co=1&et=15&cn=15&mb=0&mt=9999999&kz=1&kz=2&kz=4&tc=0400101&tc=0400501&tc=0400301&shkr1=03&shkr2=03&shkr3=03&shkr4=03&fw2=&srch_navi=1\", #千代田区\n",
    "    \"https://suumo.jp/jj/chintai/ichiran/FR301FC001/?ar=030&bs=040&ta=13&sc=13102&cb=0.0&ct=12.0&co=1&et=15&cn=15&mb=0&mt=9999999&kz=1&kz=2&kz=4&tc=0400101&tc=0400501&tc=0400301&shkr1=03&shkr2=03&shkr3=03&shkr4=03&fw2=&srch_navi=1\", #中央区\n",
    "    \"https://suumo.jp/jj/chintai/ichiran/FR301FC001/?ar=030&bs=040&ta=13&sc=13103&cb=0.0&ct=12.0&co=1&et=15&cn=15&mb=0&mt=9999999&kz=1&kz=2&kz=4&tc=0400101&tc=0400501&tc=0400301&shkr1=03&shkr2=03&shkr3=03&shkr4=03&fw2=&srch_navi=1\", #港区\n",
    "    \"https://suumo.jp/jj/chintai/ichiran/FR301FC001/?ar=030&bs=040&ta=13&sc=13104&cb=0.0&ct=12.0&co=1&et=15&cn=15&mb=0&mt=9999999&kz=1&kz=2&kz=4&tc=0400101&tc=0400501&tc=0400301&shkr1=03&shkr2=03&shkr3=03&shkr4=03&fw2=&srch_navi=1\", #新宿区\n",
    "    \"https://suumo.jp/jj/chintai/ichiran/FR301FC001/?ar=030&bs=040&ta=13&sc=13105&cb=0.0&ct=12.0&co=1&et=15&cn=15&mb=0&mt=9999999&kz=1&kz=2&kz=4&tc=0400101&tc=0400501&tc=0400301&shkr1=03&shkr2=03&shkr3=03&shkr4=03&fw2=&srch_navi=1\", #文京区\n",
    "    \"https://suumo.jp/jj/chintai/ichiran/FR301FC001/?ar=030&bs=040&ta=13&sc=13113&cb=0.0&ct=12.0&co=1&et=15&cn=15&mb=0&mt=9999999&kz=1&kz=2&kz=4&tc=0400101&tc=0400501&tc=0400301&shkr1=03&shkr2=03&shkr3=03&shkr4=03&fw2=&srch_navi=1\", #渋谷区\n",
    "    \"https://suumo.jp/jj/chintai/ichiran/FR301FC001/?ar=030&bs=040&ta=13&sc=13106&cb=0.0&ct=12.0&co=1&et=15&cn=15&mb=0&mt=9999999&kz=1&kz=2&kz=4&tc=0400101&tc=0400501&tc=0400301&shkr1=03&shkr2=03&shkr3=03&shkr4=03&fw2=&srch_navi=1\", #台東区\n",
    "    \"https://suumo.jp/jj/chintai/ichiran/FR301FC001/?ar=030&bs=040&ta=13&sc=13107&cb=0.0&ct=12.0&co=1&et=15&cn=15&mb=0&mt=9999999&kz=1&kz=2&kz=4&tc=0400101&tc=0400501&tc=0400301&shkr1=03&shkr2=03&shkr3=03&shkr4=03&fw2=&srch_navi=1\", #墨田区\n",
    "    \"https://suumo.jp/jj/chintai/ichiran/FR301FC001/?ar=030&bs=040&ta=13&sc=13108&cb=0.0&ct=12.0&co=1&et=15&cn=15&mb=0&mt=9999999&kz=1&kz=2&kz=4&tc=0400101&tc=0400501&tc=0400301&shkr1=03&shkr2=03&shkr3=03&shkr4=03&fw2=&srch_navi=1\", #江東区\n",
    "    \"https://suumo.jp/jj/chintai/ichiran/FR301FC001/?ar=030&bs=040&ta=13&sc=13118&cb=0.0&ct=12.0&co=1&et=15&cn=15&mb=0&mt=9999999&kz=1&kz=2&kz=4&tc=0400101&tc=0400501&tc=0400301&shkr1=03&shkr2=03&shkr3=03&shkr4=03&fw2=&srch_navi=1\", #荒川区\n",
    "    \"https://suumo.jp/jj/chintai/ichiran/FR301FC001/?ar=030&bs=040&ta=13&sc=13121&cb=0.0&ct=12.0&co=1&et=15&cn=15&mb=0&mt=9999999&kz=1&kz=2&kz=4&tc=0400101&tc=0400501&tc=0400301&shkr1=03&shkr2=03&shkr3=03&shkr4=03&fw2=&srch_navi=1\", #足立区\n",
    "    \"https://suumo.jp/jj/chintai/ichiran/FR301FC001/?ar=030&bs=040&ta=13&sc=13122&cb=0.0&ct=12.0&co=1&et=15&cn=15&mb=0&mt=9999999&kz=1&kz=2&kz=4&tc=0400101&tc=0400501&tc=0400301&shkr1=03&shkr2=03&shkr3=03&shkr4=03&fw2=&srch_navi=1\", #葛飾区\n",
    "    \"https://suumo.jp/jj/chintai/ichiran/FR301FC001/?ar=030&bs=040&ta=13&sc=13123&cb=0.0&ct=12.0&co=1&et=15&cn=15&mb=0&mt=9999999&kz=1&kz=2&kz=4&tc=0400101&tc=0400501&tc=0400301&shkr1=03&shkr2=03&shkr3=03&shkr4=03&fw2=&srch_navi=1\" #江戸川区\n",
    "]\n",
    "\n",
    "\"\" #\n",
    "\"\"\n",
    "\n",
    "sc=14131\n",
    "14 --> 神奈川県\n",
    "1 --> 川崎市\n",
    "31--> 川崎区\n",
    "\n",
    "sc=14137\n",
    "14 --> 神奈川県\n",
    "1 --> 川崎市\n",
    "37--> 麻生区\n",
    "\n",
    "sc=13101\n",
    "\n",
    "taが都道府県レベル\n",
    "11が埼玉県\n",
    "12 が千葉県\n",
    "13が東京都\n",
    "14が神奈川県\n",
    "\n",
    "scを無くせば都道府県単位の情報になる\n",
    "#12万円以下 15分以内 15年以内 2階以上／室内洗濯機置場／バス・トイレ別 管理費・共益費込み 鉄筋系／鉄骨系／ブロック・その他\n",
    "東京都\n",
    "https://suumo.jp/jj/chintai/ichiran/FR301FC001/?url=%2Fchintai%2Fichiran%2FFR301FC001%2F&ar=030&bs=040&pc=30&smk=&po1=25&po2=99&co=1&kz=1&kz=2&kz=4&tc=0400101&tc=0400501&tc=0400301&shkr1=03&shkr2=03&shkr3=03&shkr4=03&cb=0.0&ct=12.0&et=15&mb=0&mt=9999999&cn=15&ta=13\n",
    "神奈川県\n",
    "https://suumo.jp/jj/chintai/ichiran/FR301FC001/?url=%2Fchintai%2Fichiran%2FFR301FC001%2F&ar=030&bs=040&pc=30&smk=&po1=25&po2=99&co=1&kz=1&kz=2&kz=4&tc=0400101&tc=0400501&tc=0400301&shkr1=03&shkr2=03&shkr3=03&shkr4=03&cb=0.0&ct=12.0&et=15&mb=0&mt=9999999&cn=15&ta=14\n",
    "千葉県\n",
    "https://suumo.jp/jj/chintai/ichiran/FR301FC001/?url=%2Fchintai%2Fichiran%2FFR301FC001%2F&ar=030&bs=040&pc=30&smk=&po1=25&po2=99&co=1&kz=1&kz=2&kz=4&tc=0400101&tc=0400501&tc=0400301&shkr1=03&shkr2=03&shkr3=03&shkr4=03&cb=0.0&ct=12.0&et=15&mb=0&mt=9999999&cn=15&ta=12\n",
    "埼玉県\n",
    "https://suumo.jp/jj/chintai/ichiran/FR301FC001/?url=%2Fchintai%2Fichiran%2FFR301FC001%2F&ar=030&bs=040&pc=30&smk=&po1=25&po2=99&co=1&kz=1&kz=2&kz=4&tc=0400101&tc=0400501&tc=0400301&shkr1=03&shkr2=03&shkr3=03&shkr4=03&cb=0.0&ct=12.0&et=15&mb=0&mt=9999999&cn=15&ta=11\n",
    "\n",
    "\n",
    "BaseURLs = [\n",
    "    \"https://suumo.jp/jj/chintai/ichiran/FR301FC001/?url=%2Fchintai%2Fichiran%2FFR301FC001%2F&ar=030&bs=040&pc=30&smk=&po1=25&po2=99&co=1&kz=1&kz=2&kz=4&tc=0400101&tc=0400501&tc=0400301&shkr1=03&shkr2=03&shkr3=03&shkr4=03&cb=0.0&ct=12.0&et=15&mb=0&mt=9999999&cn=15&ta=14&sc=14131\", #川崎市川崎区\n",
    "    \"https://suumo.jp/jj/chintai/ichiran/FR301FC001/?url=%2Fchintai%2Fichiran%2FFR301FC001%2F&ar=030&bs=040&pc=30&smk=&po1=25&po2=99&co=1&kz=1&kz=2&kz=4&tc=0400101&tc=0400501&tc=0400301&shkr1=03&shkr2=03&shkr3=03&shkr4=03&cb=0.0&ct=12.0&et=15&mb=0&mt=9999999&cn=15&ta=14&sc=14132\", #川崎市幸区\n",
    "    \"https://suumo.jp/jj/chintai/ichiran/FR301FC001/?url=%2Fchintai%2Fichiran%2FFR301FC001%2F&ar=030&bs=040&pc=30&smk=&po1=25&po2=99&co=1&kz=1&kz=2&kz=4&tc=0400101&tc=0400501&tc=0400301&shkr1=03&shkr2=03&shkr3=03&shkr4=03&cb=0.0&ct=12.0&et=15&mb=0&mt=9999999&cn=15&ta=14&sc=14133\", #川崎市中原区\n",
    "    \"https://suumo.jp/jj/chintai/ichiran/FR301FC001/?url=%2Fchintai%2Fichiran%2FFR301FC001%2F&ar=030&bs=040&pc=30&smk=&po1=25&po2=99&co=1&kz=1&kz=2&kz=4&tc=0400101&tc=0400501&tc=0400301&shkr1=03&shkr2=03&shkr3=03&shkr4=03&cb=0.0&ct=12.0&et=15&mb=0&mt=9999999&cn=15&ta=14&sc=14134\", #川崎市高津区\n",
    "    \"https://suumo.jp/jj/chintai/ichiran/FR301FC001/?url=%2Fchintai%2Fichiran%2FFR301FC001%2F&ar=030&bs=040&pc=30&smk=&po1=25&po2=99&co=1&kz=1&kz=2&kz=4&tc=0400101&tc=0400501&tc=0400301&shkr1=03&shkr2=03&shkr3=03&shkr4=03&cb=0.0&ct=12.0&et=15&mb=0&mt=9999999&cn=15&ta=14&sc=14135\", #川崎市多摩区\n",
    "    \"https://suumo.jp/jj/chintai/ichiran/FR301FC001/?url=%2Fchintai%2Fichiran%2FFR301FC001%2F&ar=030&bs=040&pc=30&smk=&po1=25&po2=99&co=1&kz=1&kz=2&kz=4&tc=0400101&tc=0400501&tc=0400301&shkr1=03&shkr2=03&shkr3=03&shkr4=03&cb=0.0&ct=12.0&et=15&mb=0&mt=9999999&cn=15&ta=14&sc=14136\", #川崎市宮前区\n",
    "    \"https://suumo.jp/jj/chintai/ichiran/FR301FC001/?url=%2Fchintai%2Fichiran%2FFR301FC001%2F&ar=030&bs=040&pc=30&smk=&po1=25&po2=99&co=1&kz=1&kz=2&kz=4&tc=0400101&tc=0400501&tc=0400301&shkr1=03&shkr2=03&shkr3=03&shkr4=03&cb=0.0&ct=12.0&et=15&mb=0&mt=9999999&cn=15&ta=14&sc=14137\", #川崎市麻生区\n",
    "    \"https://suumo.jp/jj/chintai/ichiran/FR301FC001/?url=%2Fchintai%2Fichiran%2FFR301FC001%2F&ar=030&bs=040&pc=30&smk=&po1=25&po2=99&co=1&kz=1&kz=2&kz=4&tc=0400101&tc=0400501&tc=0400301&shkr1=03&shkr2=03&shkr3=03&shkr4=03&cb=0.0&ct=12.0&et=15&mb=0&mt=9999999&cn=15&ta=13&sc=13101\", #東京都千代田区\n",
    "    \"https://suumo.jp/jj/chintai/ichiran/FR301FC001/?url=%2Fchintai%2Fichiran%2FFR301FC001%2F&ar=030&bs=040&pc=30&smk=&po1=25&po2=99&co=1&kz=1&kz=2&kz=4&tc=0400101&tc=0400501&tc=0400301&shkr1=03&shkr2=03&shkr3=03&shkr4=03&cb=0.0&ct=12.0&et=15&mb=0&mt=9999999&cn=15&ta=13&sc=13300\", #西多摩郡\n",
    "    \"https://suumo.jp/jj/chintai/ichiran/FR301FC001/?url=%2Fchintai%2Fichiran%2FFR301FC001%2F&ar=030&bs=040&pc=30&smk=&po1=25&po2=99&co=1&kz=1&kz=2&kz=4&tc=0400101&tc=0400501&tc=0400301&shkr1=03&shkr2=03&shkr3=03&shkr4=03&cb=0.0&ct=12.0&et=15&mb=0&mt=9999999&cn=15&ta=13&sc=13201\", #八王子市\n",
    "    \"https://suumo.jp/jj/chintai/ichiran/FR301FC001/?url=%2Fchintai%2Fichiran%2FFR301FC001%2F&ar=030&bs=040&pc=30&smk=&po1=25&po2=99&co=1&kz=1&kz=2&kz=4&tc=0400101&tc=0400501&tc=0400301&shkr1=03&shkr2=03&shkr3=03&shkr4=03&cb=0.0&ct=12.0&et=15&mb=0&mt=9999999&cn=15&ta=13&sc=13119\", #東京都板橋区\n",
    "    \"https://suumo.jp/jj/chintai/ichiran/FR301FC001/?url=%2Fchintai%2Fichiran%2FFR301FC001%2F&ar=030&bs=040&pc=30&smk=&po1=25&po2=99&co=1&kz=1&kz=2&kz=4&tc=0400101&tc=0400501&tc=0400301&shkr1=03&shkr2=03&shkr3=03&shkr4=03&cb=0.0&ct=12.0&et=15&mb=0&mt=9999999&cn=15&ta=13&sc=13202\", #立川市\n",
    "    \"https://suumo.jp/jj/chintai/ichiran/FR301FC001/?url=%2Fchintai%2Fichiran%2FFR301FC001%2F&ar=030&bs=040&pc=30&smk=&po1=25&po2=99&co=1&kz=1&kz=2&kz=4&tc=0400101&tc=0400501&tc=0400301&shkr1=03&shkr2=03&shkr3=03&shkr4=03&cb=0.0&ct=12.0&et=15&mb=0&mt=9999999&cn=15&ta=13&sc=13229\", #西東京市\n",
    "    \"https://suumo.jp/jj/chintai/ichiran/FR301FC001/?url=%2Fchintai%2Fichiran%2FFR301FC001%2F&ar=030&bs=040&pc=30&smk=&po1=25&po2=99&co=1&kz=1&kz=2&kz=4&tc=0400101&tc=0400501&tc=0400301&shkr1=03&shkr2=03&shkr3=03&shkr4=03&cb=0.0&ct=12.0&et=15&mb=0&mt=9999999&cn=15&ta=12&sc=12101\", #千葉市中央区\n",
    "    \"https://suumo.jp/jj/chintai/ichiran/FR301FC001/?url=%2Fchintai%2Fichiran%2FFR301FC001%2F&ar=030&bs=040&pc=30&smk=&po1=25&po2=99&co=1&kz=1&kz=2&kz=4&tc=0400101&tc=0400501&tc=0400301&shkr1=03&shkr2=03&shkr3=03&shkr4=03&cb=0.0&ct=12.0&et=15&mb=0&mt=9999999&cn=15&ta=11&sc=11101\", #さいたま市西区\n",
    "    \"\", #\n",
    "    \"\", #\n",
    "    \"\", #\n",
    "    \"\", #\n",
    "    \"\", #\n",
    "]\n"
   ]
  }
 ],
 "metadata": {
  "kernelspec": {
   "display_name": "Python 3",
   "language": "python",
   "name": "python3"
  },
  "language_info": {
   "codemirror_mode": {
    "name": "ipython",
    "version": 3
   },
   "file_extension": ".py",
   "mimetype": "text/x-python",
   "name": "python",
   "nbconvert_exporter": "python",
   "pygments_lexer": "ipython3",
   "version": "3.8.10"
  }
 },
 "nbformat": 4,
 "nbformat_minor": 5
}
